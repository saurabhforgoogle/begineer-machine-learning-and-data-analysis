{
 "cells": [
  {
   "cell_type": "code",
   "execution_count": 1,
   "metadata": {},
   "outputs": [],
   "source": [
    "import pandas as pd \n",
    "pd.set_option('display.max_column',16)\n",
    "CityWise=pd.read_csv(r'C:\\Users\\saurabh\\Documents\\Desktop\\Data Science projects\\Data For Projects\\district_wise.csv')\n",
    "CityWise=CityWise[['State','District','Confirmed','Active','Recovered','Deceased']]"
   ]
  },
  {
   "cell_type": "code",
   "execution_count": 2,
   "metadata": {},
   "outputs": [],
   "source": [
    "CityWise.drop(index=0,inplace=True)\n"
   ]
  },
  {
   "cell_type": "code",
   "execution_count": 3,
   "metadata": {},
   "outputs": [
    {
     "output_type": "execute_result",
     "data": {
      "text/plain": "                                                State  Confirmed  Active  \\\nDistrict                                                                   \nNicobars                  Andaman and Nicobar Islands          0       0   \nNorth and Middle Andaman  Andaman and Nicobar Islands          1       0   \nSouth Andaman             Andaman and Nicobar Islands         51      19   \nForeign Evacuees                       Andhra Pradesh        409     249   \nAnantapur                              Andhra Pradesh       1972     852   \n...                                               ...        ...     ...   \nPurba Bardhaman                           West Bengal        178      27   \nPurba Medinipur                           West Bengal        357      95   \nPurulia                                   West Bengal         93       6   \nSouth 24 Parganas                         West Bengal       1192     576   \nUttar Dinajpur                            West Bengal        312      63   \n\n                          Recovered  Deceased  \nDistrict                                       \nNicobars                          0         0  \nNorth and Middle Andaman          1         0  \nSouth Andaman                    32         0  \nForeign Evacuees                160         0  \nAnantapur                      1111         9  \n...                             ...       ...  \nPurba Bardhaman                 149         2  \nPurba Medinipur                 258         4  \nPurulia                          87         0  \nSouth 24 Parganas               588        28  \nUttar Dinajpur                  248         1  \n\n[762 rows x 5 columns]",
      "text/html": "<div>\n<style scoped>\n    .dataframe tbody tr th:only-of-type {\n        vertical-align: middle;\n    }\n\n    .dataframe tbody tr th {\n        vertical-align: top;\n    }\n\n    .dataframe thead th {\n        text-align: right;\n    }\n</style>\n<table border=\"1\" class=\"dataframe\">\n  <thead>\n    <tr style=\"text-align: right;\">\n      <th></th>\n      <th>State</th>\n      <th>Confirmed</th>\n      <th>Active</th>\n      <th>Recovered</th>\n      <th>Deceased</th>\n    </tr>\n    <tr>\n      <th>District</th>\n      <th></th>\n      <th></th>\n      <th></th>\n      <th></th>\n      <th></th>\n    </tr>\n  </thead>\n  <tbody>\n    <tr>\n      <th>Nicobars</th>\n      <td>Andaman and Nicobar Islands</td>\n      <td>0</td>\n      <td>0</td>\n      <td>0</td>\n      <td>0</td>\n    </tr>\n    <tr>\n      <th>North and Middle Andaman</th>\n      <td>Andaman and Nicobar Islands</td>\n      <td>1</td>\n      <td>0</td>\n      <td>1</td>\n      <td>0</td>\n    </tr>\n    <tr>\n      <th>South Andaman</th>\n      <td>Andaman and Nicobar Islands</td>\n      <td>51</td>\n      <td>19</td>\n      <td>32</td>\n      <td>0</td>\n    </tr>\n    <tr>\n      <th>Foreign Evacuees</th>\n      <td>Andhra Pradesh</td>\n      <td>409</td>\n      <td>249</td>\n      <td>160</td>\n      <td>0</td>\n    </tr>\n    <tr>\n      <th>Anantapur</th>\n      <td>Andhra Pradesh</td>\n      <td>1972</td>\n      <td>852</td>\n      <td>1111</td>\n      <td>9</td>\n    </tr>\n    <tr>\n      <th>...</th>\n      <td>...</td>\n      <td>...</td>\n      <td>...</td>\n      <td>...</td>\n      <td>...</td>\n    </tr>\n    <tr>\n      <th>Purba Bardhaman</th>\n      <td>West Bengal</td>\n      <td>178</td>\n      <td>27</td>\n      <td>149</td>\n      <td>2</td>\n    </tr>\n    <tr>\n      <th>Purba Medinipur</th>\n      <td>West Bengal</td>\n      <td>357</td>\n      <td>95</td>\n      <td>258</td>\n      <td>4</td>\n    </tr>\n    <tr>\n      <th>Purulia</th>\n      <td>West Bengal</td>\n      <td>93</td>\n      <td>6</td>\n      <td>87</td>\n      <td>0</td>\n    </tr>\n    <tr>\n      <th>South 24 Parganas</th>\n      <td>West Bengal</td>\n      <td>1192</td>\n      <td>576</td>\n      <td>588</td>\n      <td>28</td>\n    </tr>\n    <tr>\n      <th>Uttar Dinajpur</th>\n      <td>West Bengal</td>\n      <td>312</td>\n      <td>63</td>\n      <td>248</td>\n      <td>1</td>\n    </tr>\n  </tbody>\n</table>\n<p>762 rows × 5 columns</p>\n</div>"
     },
     "metadata": {},
     "execution_count": 3
    }
   ],
   "source": [
    "CityWise.set_index('District',inplace=True)\n",
    "CityWise.drop(index='Unknown')"
   ]
  },
  {
   "cell_type": "code",
   "execution_count": 4,
   "metadata": {},
   "outputs": [
    {
     "output_type": "execute_result",
     "data": {
      "text/plain": "array(['Nicobars', 'North and Middle Andaman', 'South Andaman',\n       'Foreign Evacuees', 'Anantapur', 'Chittoor', 'East Godavari',\n       'Guntur', 'Krishna', 'Kurnool', 'Other State', 'Prakasam',\n       'S.P.S. Nellore', 'Srikakulam', 'Visakhapatnam', 'Vizianagaram',\n       'West Godavari', 'Y.S.R. Kadapa', 'Anjaw', 'Changlang',\n       'East Kameng', 'East Siang', 'Kamle', 'Kra Daadi', 'Kurung Kumey',\n       'Lepa Rada', 'Lohit', 'Longding', 'Lower Dibang Valley',\n       'Lower Siang', 'Lower Subansiri', 'Namsai', 'Pakke Kessang',\n       'Papum Pare', 'Shi Yomi', 'Siang', 'Tawang', 'Tirap',\n       'Upper Dibang Valley', 'Upper Siang', 'Upper Subansiri',\n       'West Kameng', 'West Siang', 'Airport Quarantine', 'Baksa',\n       'Barpeta', 'Biswanath', 'Bongaigaon', 'Cachar', 'Charaideo',\n       'Chirang', 'Darrang', 'Dhemaji', 'Dhubri', 'Dibrugarh',\n       'Dima Hasao', 'Goalpara', 'Golaghat', 'Hailakandi', 'Hojai',\n       'Jorhat', 'Kamrup', 'Kamrup Metropolitan', 'Karbi Anglong',\n       'Karimganj', 'Kokrajhar', 'Lakhimpur', 'Majuli', 'Morigaon',\n       'Nagaon', 'Nalbari', 'Other State', 'Sivasagar', 'Sonitpur',\n       'South Salmara Mankachar', 'Tinsukia', 'Udalguri',\n       'West Karbi Anglong', 'Araria', 'Arwal', 'Aurangabad', 'Banka',\n       'Begusarai', 'Bhagalpur', 'Bhojpur', 'Buxar', 'Darbhanga',\n       'East Champaran', 'Gaya', 'Gopalganj', 'Jamui', 'Jehanabad',\n       'Kaimur', 'Katihar', 'Khagaria', 'Kishanganj', 'Lakhisarai',\n       'Madhepura', 'Madhubani', 'Munger', 'Muzaffarpur', 'Nalanda',\n       'Nawada', 'Patna', 'Purnia', 'Rohtas', 'Saharsa', 'Samastipur',\n       'Saran', 'Sheikhpura', 'Sheohar', 'Sitamarhi', 'Siwan', 'Supaul',\n       'Vaishali', 'West Champaran', 'Chandigarh', 'Other State', 'Balod',\n       'Baloda Bazar', 'Balrampur', 'Bametara', 'Bastar', 'Bijapur',\n       'Bilaspur', 'Dakshin Bastar Dantewada', 'Dhamtari', 'Durg',\n       'Gariaband', 'Janjgir Champa', 'Jashpur', 'Kabeerdham',\n       'Kondagaon', 'Korba', 'Koriya', 'Mahasamund', 'Mungeli',\n       'Narayanpur', 'Raigarh', 'Raipur', 'Rajnandgaon', 'Sukma',\n       'Surajpur', 'Surguja', 'Uttar Bastar Kanker',\n       'Gaurela Pendra Marwahi', 'Central Delhi', 'East Delhi',\n       'New Delhi', 'North Delhi', 'North East Delhi', 'North West Delhi',\n       'Shahdara', 'South Delhi', 'South East Delhi', 'South West Delhi',\n       'West Delhi', 'Other State', 'Dadra and Nagar Haveli', 'Daman',\n       'Diu', 'Other State', 'North Goa', 'South Goa', 'Other State',\n       'Ahmedabad', 'Amreli', 'Anand', 'Aravalli', 'Banaskantha',\n       'Bharuch', 'Bhavnagar', 'Botad', 'Chhota Udaipur', 'Dahod', 'Dang',\n       'Devbhumi Dwarka', 'Gandhinagar', 'Gir Somnath', 'Jamnagar',\n       'Junagadh', 'Kheda', 'Kutch', 'Mahisagar', 'Mehsana', 'Morbi',\n       'Narmada', 'Navsari', 'Panchmahal', 'Patan', 'Porbandar', 'Rajkot',\n       'Sabarkantha', 'Surat', 'Surendranagar', 'Tapi', 'Vadodara',\n       'Valsad', 'Bilaspur', 'Chamba', 'Hamirpur', 'Kangra', 'Kinnaur',\n       'Kullu', 'Lahaul and Spiti', 'Mandi', 'Shimla', 'Sirmaur', 'Solan',\n       'Una', 'Foreign Evacuees', 'Ambala', 'Bhiwani', 'Charkhi Dadri',\n       'Faridabad', 'Fatehabad', 'Gurugram', 'Hisar', 'Italians',\n       'Jhajjar', 'Jind', 'Kaithal', 'Karnal', 'Kurukshetra',\n       'Mahendragarh', 'Nuh', 'Palwal', 'Panchkula', 'Panipat', 'Rewari',\n       'Rohtak', 'Sirsa', 'Sonipat', 'Yamunanagar', 'Bokaro', 'Chatra',\n       'Deoghar', 'Dhanbad', 'Dumka', 'East Singhbhum', 'Garhwa',\n       'Giridih', 'Godda', 'Gumla', 'Hazaribagh', 'Jamtara', 'Khunti',\n       'Koderma', 'Latehar', 'Lohardaga', 'Pakur', 'Palamu', 'Ramgarh',\n       'Ranchi', 'Sahibganj', 'Saraikela-Kharsawan', 'Simdega',\n       'West Singhbhum', 'Anantnag', 'Bandipora', 'Baramulla', 'Budgam',\n       'Doda', 'Ganderbal', 'Jammu', 'Kathua', 'Kishtwar', 'Kulgam',\n       'Kupwara', 'Mirpur', 'Muzaffarabad', 'Pulwama', 'Punch', 'Rajouri',\n       'Ramban', 'Reasi', 'Samba', 'Shopiyan', 'Srinagar', 'Udhampur',\n       'Bagalkote', 'Ballari', 'Belagavi', 'Bengaluru Rural',\n       'Bengaluru Urban', 'Bidar', 'Chamarajanagara', 'Chikkaballapura',\n       'Chikkamagaluru', 'Chitradurga', 'Dakshina Kannada', 'Davanagere',\n       'Dharwad', 'Gadag', 'Hassan', 'Haveri', 'Kalaburagi', 'Kodagu',\n       'Kolar', 'Koppal', 'Mandya', 'Mysuru', 'Other State', 'Raichur',\n       'Ramanagara', 'Shivamogga', 'Tumakuru', 'Udupi', 'Uttara Kannada',\n       'Vijayapura', 'Yadgir', 'Other State', 'Alappuzha', 'Ernakulam',\n       'Idukki', 'Kannur', 'Kasaragod', 'Kollam', 'Kottayam', 'Kozhikode',\n       'Malappuram', 'Palakkad', 'Pathanamthitta', 'Thiruvananthapuram',\n       'Thrissur', 'Wayanad', 'Kargil', 'Leh', 'Lakshadweep',\n       'Ahmednagar', 'Akola', 'Amravati', 'Aurangabad', 'Beed',\n       'Bhandara', 'Buldhana', 'Chandrapur', 'Dhule', 'Gadchiroli',\n       'Gondia', 'Hingoli', 'Jalgaon', 'Jalna', 'Kolhapur', 'Latur',\n       'Mumbai', 'Mumbai Suburban', 'Nagpur', 'Nanded', 'Nandurbar',\n       'Nashik', 'Osmanabad', 'Other State', 'Palghar', 'Parbhani',\n       'Pune', 'Raigad', 'Ratnagiri', 'Sangli', 'Satara', 'Sindhudurg',\n       'Solapur', 'Thane', 'Wardha', 'Washim', 'Yavatmal',\n       'East Garo Hills', 'East Jaintia Hills', 'East Khasi Hills',\n       'North Garo Hills', 'Ribhoi', 'South Garo Hills',\n       'South West Garo Hills', 'South West Khasi Hills',\n       'West Garo Hills', 'West Jaintia Hills', 'West Khasi Hills',\n       'Bishnupur', 'Chandel', 'Churachandpur', 'Imphal East',\n       'Imphal West', 'Jiribam', 'Kakching', 'Kamjong', 'Kangpokpi',\n       'Noney', 'Pherzawl', 'Senapati', 'Tamenglong', 'Tengnoupal',\n       'Thoubal', 'Ukhrul', 'Agar Malwa', 'Alirajpur', 'Anuppur',\n       'Ashoknagar', 'Balaghat', 'Barwani', 'Betul', 'Bhind', 'Bhopal',\n       'Burhanpur', 'Chhatarpur', 'Chhindwara', 'Damoh', 'Datia', 'Dewas',\n       'Dhar', 'Dindori', 'Guna', 'Gwalior', 'Harda', 'Hoshangabad',\n       'Indore', 'Jabalpur', 'Jhabua', 'Katni', 'Khandwa', 'Khargone',\n       'Mandla', 'Mandsaur', 'Morena', 'Narsinghpur', 'Neemuch', 'Niwari',\n       'Other Region', 'Panna', 'Raisen', 'Rajgarh', 'Ratlam', 'Rewa',\n       'Sagar', 'Satna', 'Sehore', 'Seoni', 'Shahdol', 'Shajapur',\n       'Sheopur', 'Shivpuri', 'Sidhi', 'Singrauli', 'Tikamgarh', 'Ujjain',\n       'Umaria', 'Vidisha', 'Aizawl', 'Champhai', 'Hnahthial', 'Khawzawl',\n       'Kolasib', 'Lawngtlai', 'Lunglei', 'Mamit', 'Saiha', 'Saitual',\n       'Serchhip', 'Others', 'Dimapur', 'Kiphire', 'Kohima', 'Longleng',\n       'Mokokchung', 'Mon', 'Peren', 'Phek', 'Tuensang', 'Wokha',\n       'Zunheboto', 'Others', 'Angul', 'Balangir', 'Balasore', 'Bargarh',\n       'Bhadrak', 'Boudh', 'Cuttack', 'Deogarh', 'Dhenkanal', 'Gajapati',\n       'Ganjam', 'Jagatsinghpur', 'Jajpur', 'Jharsuguda', 'Kalahandi',\n       'Kandhamal', 'Kendrapara', 'Kendujhar', 'Khordha', 'Koraput',\n       'Malkangiri', 'Mayurbhanj', 'Nabarangapur', 'Nayagarh', 'Nuapada',\n       'Puri', 'Rayagada', 'Sambalpur', 'Subarnapur', 'Sundargarh',\n       'Amritsar', 'Barnala', 'Bathinda', 'Faridkot', 'Fatehgarh Sahib',\n       'Fazilka', 'Ferozepur', 'Gurdaspur', 'Hoshiarpur', 'Jalandhar',\n       'Kapurthala', 'Ludhiana', 'Mansa', 'Moga', 'Pathankot', 'Patiala',\n       'Rupnagar', 'S.A.S. Nagar', 'Sangrur', 'Shahid Bhagat Singh Nagar',\n       'Sri Muktsar Sahib', 'Tarn Taran', 'Karaikal', 'Mahe',\n       'Puducherry', 'Yanam', 'Ajmer', 'Alwar', 'Banswara', 'Baran',\n       'Barmer', 'Bharatpur', 'Bhilwara', 'Bikaner', 'BSF Camp', 'Bundi',\n       'Chittorgarh', 'Churu', 'Dausa', 'Dholpur', 'Dungarpur',\n       'Evacuees', 'Ganganagar', 'Hanumangarh', 'Italians', 'Jaipur',\n       'Jaisalmer', 'Jalore', 'Jhalawar', 'Jhunjhunu', 'Jodhpur',\n       'Karauli', 'Kota', 'Nagaur', 'Other State', 'Pali', 'Pratapgarh',\n       'Rajsamand', 'Sawai Madhopur', 'Sikar', 'Sirohi', 'Tonk',\n       'Udaipur', 'East Sikkim', 'North Sikkim', 'South Sikkim',\n       'West Sikkim', 'Foreign Evacuees', 'Other State', 'Adilabad',\n       'Bhadradri Kothagudem', 'Hyderabad', 'Jagtial', 'Jangaon',\n       'Jayashankar Bhupalapally', 'Jogulamba Gadwal', 'Kamareddy',\n       'Karimnagar', 'Khammam', 'Komaram Bheem', 'Mahabubabad',\n       'Mahabubnagar', 'Mancherial', 'Medak', 'Medchal Malkajgiri',\n       'Mulugu', 'Nagarkurnool', 'Nalgonda', 'Narayanpet', 'Nirmal',\n       'Nizamabad', 'Peddapalli', 'Rajanna Sircilla', 'Ranga Reddy',\n       'Sangareddy', 'Siddipet', 'Suryapet', 'Vikarabad', 'Wanaparthy',\n       'Warangal Rural', 'Warangal Urban', 'Yadadri Bhuvanagiri',\n       'Railway Quarantine', 'Airport Quarantine', 'Other State',\n       'Ariyalur', 'Chengalpattu', 'Chennai', 'Coimbatore', 'Cuddalore',\n       'Dharmapuri', 'Dindigul', 'Erode', 'Kallakurichi', 'Kancheepuram',\n       'Kanyakumari', 'Karur', 'Krishnagiri', 'Madurai', 'Nagapattinam',\n       'Namakkal', 'Nilgiris', 'Perambalur', 'Pudukkottai',\n       'Ramanathapuram', 'Ranipet', 'Salem', 'Sivaganga', 'Tenkasi',\n       'Thanjavur', 'Theni', 'Thiruvallur', 'Thiruvarur', 'Thoothukkudi',\n       'Tiruchirappalli', 'Tirunelveli', 'Tirupathur', 'Tiruppur',\n       'Tiruvannamalai', 'Vellore', 'Viluppuram', 'Virudhunagar',\n       'Dhalai', 'Gomati', 'Khowai', 'North Tripura', 'Sipahijala',\n       'South Tripura', 'Unokoti', 'West Tripura', 'Agra', 'Aligarh',\n       'Ambedkar Nagar', 'Amethi', 'Amroha', 'Auraiya', 'Ayodhya',\n       'Azamgarh', 'Baghpat', 'Bahraich', 'Ballia', 'Balrampur', 'Banda',\n       'Barabanki', 'Bareilly', 'Basti', 'Bhadohi', 'Bijnor', 'Budaun',\n       'Bulandshahr', 'Chandauli', 'Chitrakoot', 'Deoria', 'Etah',\n       'Etawah', 'Farrukhabad', 'Fatehpur', 'Firozabad',\n       'Gautam Buddha Nagar', 'Ghaziabad', 'Ghazipur', 'Gonda',\n       'Gorakhpur', 'Hamirpur', 'Hapur', 'Hardoi', 'Hathras', 'Jalaun',\n       'Jaunpur', 'Jhansi', 'Kannauj', 'Kanpur Dehat', 'Kanpur Nagar',\n       'Kasganj', 'Kaushambi', 'Kushinagar', 'Lakhimpur Kheri',\n       'Lalitpur', 'Lucknow', 'Maharajganj', 'Mahoba', 'Mainpuri',\n       'Mathura', 'Mau', 'Meerut', 'Mirzapur', 'Moradabad',\n       'Muzaffarnagar', 'Pilibhit', 'Pratapgarh', 'Prayagraj',\n       'Rae Bareli', 'Rampur', 'Saharanpur', 'Sambhal',\n       'Sant Kabir Nagar', 'Shahjahanpur', 'Shamli', 'Shrawasti',\n       'Siddharthnagar', 'Sitapur', 'Sonbhadra', 'Sultanpur', 'Unnao',\n       'Varanasi', 'Almora', 'Bageshwar', 'Chamoli', 'Champawat',\n       'Dehradun', 'Haridwar', 'Nainital', 'Pauri Garhwal', 'Pithoragarh',\n       'Rudraprayag', 'Tehri Garhwal', 'Udham Singh Nagar', 'Uttarkashi',\n       'Alipurduar', 'Bankura', 'Birbhum', 'Cooch Behar',\n       'Dakshin Dinajpur', 'Darjeeling', 'Hooghly', 'Howrah',\n       'Jalpaiguri', 'Jhargram', 'Kalimpong', 'Kolkata', 'Malda',\n       'Murshidabad', 'Nadia', 'North 24 Parganas', 'Other State',\n       'Paschim Bardhaman', 'Paschim Medinipur', 'Purba Bardhaman',\n       'Purba Medinipur', 'Purulia', 'South 24 Parganas',\n       'Uttar Dinajpur', 'Unknown', 'Unknown', 'Unknown', 'Unknown',\n       'Unknown', 'Unknown', 'Unknown', 'Unknown', 'Unknown', 'Unknown',\n       'Unknown', 'Unknown', 'Unknown', 'Unknown', 'Unknown', 'Unknown',\n       'Unknown', 'Unknown', 'Unknown', 'Unknown', 'Unknown', 'Unknown',\n       'Unknown', 'Unknown', 'Unknown', 'Unknown', 'Unknown', 'Unknown',\n       'Unknown', 'Unknown', 'Unknown', 'Unknown', 'Unknown', 'Unknown',\n       'Unknown', 'Unknown'], dtype=object)"
     },
     "metadata": {},
     "execution_count": 4
    }
   ],
   "source": [
    "CityWise.index.values"
   ]
  },
  {
   "cell_type": "code",
   "execution_count": null,
   "metadata": {},
   "outputs": [],
   "source": []
  }
 ],
 "metadata": {
  "language_info": {
   "codemirror_mode": {
    "name": "ipython",
    "version": 3
   },
   "file_extension": ".py",
   "mimetype": "text/x-python",
   "name": "python",
   "nbconvert_exporter": "python",
   "pygments_lexer": "ipython3",
   "version": "3.8.2-final"
  },
  "orig_nbformat": 2,
  "kernelspec": {
   "name": "python38264bit8839610f77eb428ba40d2c4dc493bc82",
   "display_name": "Python 3.8.2 64-bit"
  }
 },
 "nbformat": 4,
 "nbformat_minor": 2
}