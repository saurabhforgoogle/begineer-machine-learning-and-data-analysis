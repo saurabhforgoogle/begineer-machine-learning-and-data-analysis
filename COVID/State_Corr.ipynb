{
 "cells": [
  {
   "cell_type": "code",
   "execution_count": 6,
   "metadata": {},
   "outputs": [
    {
     "output_type": "execute_result",
     "data": {
      "text/plain": "                Confirmed\nState                    \nTotal              628461\nMaharashtra        186626\nTamil Nadu          98392\nDelhi               92175\nGujarat             33999\nUttar Pradesh       24825\nRajasthan           18785\nWest Bengal         19819\nMadhya Pradesh      14106\nHaryana             15732",
      "text/html": "<div>\n<style scoped>\n    .dataframe tbody tr th:only-of-type {\n        vertical-align: middle;\n    }\n\n    .dataframe tbody tr th {\n        vertical-align: top;\n    }\n\n    .dataframe thead th {\n        text-align: right;\n    }\n</style>\n<table border=\"1\" class=\"dataframe\">\n  <thead>\n    <tr style=\"text-align: right;\">\n      <th></th>\n      <th>Confirmed</th>\n    </tr>\n    <tr>\n      <th>State</th>\n      <th></th>\n    </tr>\n  </thead>\n  <tbody>\n    <tr>\n      <th>Total</th>\n      <td>628461</td>\n    </tr>\n    <tr>\n      <th>Maharashtra</th>\n      <td>186626</td>\n    </tr>\n    <tr>\n      <th>Tamil Nadu</th>\n      <td>98392</td>\n    </tr>\n    <tr>\n      <th>Delhi</th>\n      <td>92175</td>\n    </tr>\n    <tr>\n      <th>Gujarat</th>\n      <td>33999</td>\n    </tr>\n    <tr>\n      <th>Uttar Pradesh</th>\n      <td>24825</td>\n    </tr>\n    <tr>\n      <th>Rajasthan</th>\n      <td>18785</td>\n    </tr>\n    <tr>\n      <th>West Bengal</th>\n      <td>19819</td>\n    </tr>\n    <tr>\n      <th>Madhya Pradesh</th>\n      <td>14106</td>\n    </tr>\n    <tr>\n      <th>Haryana</th>\n      <td>15732</td>\n    </tr>\n  </tbody>\n</table>\n</div>"
     },
     "metadata": {},
     "execution_count": 6
    }
   ],
   "source": [
    "import pandas as pd \n",
    "State=pd.read_csv(r'C:\\Users\\saurabh\\Documents\\Desktop\\Data Science projects\\Data For Projects\\state_wise.csv')\n",
    "State=State[['State',\t'Confirmed']]\n",
    "State.set_index('State',inplace=True)\n",
    "State.head(10)"
   ]
  },
  {
   "cell_type": "code",
   "execution_count": 7,
   "metadata": {},
   "outputs": [
    {
     "output_type": "execute_result",
     "data": {
      "text/plain": "                         Population                  Density\nState / Union Territory                                     \nUttar Pradesh             199812341    828/km2 (2,140/sq mi)\nMaharashtra               112374333      365/km2 (950/sq mi)\nBihar                     104099452  1,102/km2 (2,850/sq mi)\nWest Bengal                91276115  1,029/km2 (2,670/sq mi)\nMadhya Pradesh             72626809      236/km2 (610/sq mi)\nTamil Nadu                 72147030    555/km2 (1,440/sq mi)\nRajasthan                  68548437      201/km2 (520/sq mi)\nKarnataka                  61095297      319/km2 (830/sq mi)\nGujarat                    60439692      308/km2 (800/sq mi)\nAndhra Pradesh             49577103      303/km2 (780/sq mi)",
      "text/html": "<div>\n<style scoped>\n    .dataframe tbody tr th:only-of-type {\n        vertical-align: middle;\n    }\n\n    .dataframe tbody tr th {\n        vertical-align: top;\n    }\n\n    .dataframe thead th {\n        text-align: right;\n    }\n</style>\n<table border=\"1\" class=\"dataframe\">\n  <thead>\n    <tr style=\"text-align: right;\">\n      <th></th>\n      <th>Population</th>\n      <th>Density</th>\n    </tr>\n    <tr>\n      <th>State / Union Territory</th>\n      <th></th>\n      <th></th>\n    </tr>\n  </thead>\n  <tbody>\n    <tr>\n      <th>Uttar Pradesh</th>\n      <td>199812341</td>\n      <td>828/km2 (2,140/sq mi)</td>\n    </tr>\n    <tr>\n      <th>Maharashtra</th>\n      <td>112374333</td>\n      <td>365/km2 (950/sq mi)</td>\n    </tr>\n    <tr>\n      <th>Bihar</th>\n      <td>104099452</td>\n      <td>1,102/km2 (2,850/sq mi)</td>\n    </tr>\n    <tr>\n      <th>West Bengal</th>\n      <td>91276115</td>\n      <td>1,029/km2 (2,670/sq mi)</td>\n    </tr>\n    <tr>\n      <th>Madhya Pradesh</th>\n      <td>72626809</td>\n      <td>236/km2 (610/sq mi)</td>\n    </tr>\n    <tr>\n      <th>Tamil Nadu</th>\n      <td>72147030</td>\n      <td>555/km2 (1,440/sq mi)</td>\n    </tr>\n    <tr>\n      <th>Rajasthan</th>\n      <td>68548437</td>\n      <td>201/km2 (520/sq mi)</td>\n    </tr>\n    <tr>\n      <th>Karnataka</th>\n      <td>61095297</td>\n      <td>319/km2 (830/sq mi)</td>\n    </tr>\n    <tr>\n      <th>Gujarat</th>\n      <td>60439692</td>\n      <td>308/km2 (800/sq mi)</td>\n    </tr>\n    <tr>\n      <th>Andhra Pradesh</th>\n      <td>49577103</td>\n      <td>303/km2 (780/sq mi)</td>\n    </tr>\n  </tbody>\n</table>\n</div>"
     },
     "metadata": {},
     "execution_count": 7
    }
   ],
   "source": [
    "State2=pd.read_csv(r'C:\\Users\\saurabh\\Documents\\Desktop\\Data Science projects\\Data For Projects\\population_india_census2011.csv')\n",
    "State2=State2[['State / Union Territory','Population',\t'Density']]\n",
    "State2.set_index('State / Union Territory',inplace=True)\n",
    "State2.head(10)"
   ]
  },
  {
   "cell_type": "code",
   "execution_count": 8,
   "metadata": {},
   "outputs": [
    {
     "output_type": "execute_result",
     "data": {
      "text/plain": "                                          Confirmed  Population  \\\nMaharashtra                                  186626   112374333   \nTamil Nadu                                    98392    72147030   \nDelhi                                         92175    16787941   \nGujarat                                       33999    60439692   \nUttar Pradesh                                 24825   199812341   \nRajasthan                                     18785    68548437   \nWest Bengal                                   19819    91276115   \nMadhya Pradesh                                14106    72626809   \nHaryana                                       15732    25351462   \nKarnataka                                     18016    61095297   \nAndhra Pradesh                                16934    49577103   \nBihar                                         10914   104099452   \nJammu and Kashmir                              7849    12267032   \nAssam                                          9435    31205576   \nOdisha                                         8106    41974218   \nPunjab                                         5784    27743338   \nKerala                                         4754    33406061   \nUttarakhand                                    2984    10086292   \nChhattisgarh                                   3013    25545198   \nJharkhand                                      2634    32988134   \nTripura                                        1440     3673917   \nLadakh                                         1002      274000   \nGoa                                            1482     1458545   \nHimachal Pradesh                               1021     6864602   \nManipur                                        1279     2570390   \nChandigarh                                      450     1055450   \nPuducherry                                      824     1247953   \nNagaland                                        539     1978502   \nMizoram                                         162     1097206   \nArunachal Pradesh                               232     1383727   \nSikkim                                          101      610577   \nDadra and Nagar Haveli and Daman and Diu        268      585764   \nAndaman and Nicobar Islands                     116      380581   \nMeghalaya                                        62     2966889   \nLakshadweep                                       0       64473   \n\n                                                            Density  \nMaharashtra                                     365/km2 (950/sq mi)  \nTamil Nadu                                    555/km2 (1,440/sq mi)  \nDelhi                                     11,297/km2 (29,260/sq mi)  \nGujarat                                         308/km2 (800/sq mi)  \nUttar Pradesh                                 828/km2 (2,140/sq mi)  \nRajasthan                                       201/km2 (520/sq mi)  \nWest Bengal                                 1,029/km2 (2,670/sq mi)  \nMadhya Pradesh                                  236/km2 (610/sq mi)  \nHaryana                                       573/km2 (1,480/sq mi)  \nKarnataka                                       319/km2 (830/sq mi)  \nAndhra Pradesh                                  303/km2 (780/sq mi)  \nBihar                                       1,102/km2 (2,850/sq mi)  \nJammu and Kashmir                                98/km2 (250/sq mi)  \nAssam                                         397/km2 (1,030/sq mi)  \nOdisha                                          269/km2 (700/sq mi)  \nPunjab                                        550/km2 (1,400/sq mi)  \nKerala                                        859/km2 (2,220/sq mi)  \nUttarakhand                                     189/km2 (490/sq mi)  \nChhattisgarh                                    189/km2 (490/sq mi)  \nJharkhand                                     414/km2 (1,070/sq mi)  \nTripura                                         350/km2 (910/sq mi)  \nLadakh                                          2.8/km2 (7.3/sq mi)  \nGoa                                           394/km2 (1,020/sq mi)  \nHimachal Pradesh                                123/km2 (320/sq mi)  \nManipur                                         122/km2 (320/sq mi)  \nChandigarh                                 9,252/km2 (23,960/sq mi)  \nPuducherry                                  2,598/km2 (6,730/sq mi)  \nNagaland                                        119/km2 (310/sq mi)  \nMizoram                                          52/km2 (130/sq mi)  \nArunachal Pradesh                                 17/km2 (44/sq mi)  \nSikkim                                           86/km2 (220/sq mi)  \nDadra and Nagar Haveli and Daman and Diu      970/km2 (2,500/sq mi)  \nAndaman and Nicobar Islands                      46/km2 (120/sq mi)  \nMeghalaya                                       132/km2 (340/sq mi)  \nLakshadweep                                 2,013/km2 (5,210/sq mi)  ",
      "text/html": "<div>\n<style scoped>\n    .dataframe tbody tr th:only-of-type {\n        vertical-align: middle;\n    }\n\n    .dataframe tbody tr th {\n        vertical-align: top;\n    }\n\n    .dataframe thead th {\n        text-align: right;\n    }\n</style>\n<table border=\"1\" class=\"dataframe\">\n  <thead>\n    <tr style=\"text-align: right;\">\n      <th></th>\n      <th>Confirmed</th>\n      <th>Population</th>\n      <th>Density</th>\n    </tr>\n  </thead>\n  <tbody>\n    <tr>\n      <th>Maharashtra</th>\n      <td>186626</td>\n      <td>112374333</td>\n      <td>365/km2 (950/sq mi)</td>\n    </tr>\n    <tr>\n      <th>Tamil Nadu</th>\n      <td>98392</td>\n      <td>72147030</td>\n      <td>555/km2 (1,440/sq mi)</td>\n    </tr>\n    <tr>\n      <th>Delhi</th>\n      <td>92175</td>\n      <td>16787941</td>\n      <td>11,297/km2 (29,260/sq mi)</td>\n    </tr>\n    <tr>\n      <th>Gujarat</th>\n      <td>33999</td>\n      <td>60439692</td>\n      <td>308/km2 (800/sq mi)</td>\n    </tr>\n    <tr>\n      <th>Uttar Pradesh</th>\n      <td>24825</td>\n      <td>199812341</td>\n      <td>828/km2 (2,140/sq mi)</td>\n    </tr>\n    <tr>\n      <th>Rajasthan</th>\n      <td>18785</td>\n      <td>68548437</td>\n      <td>201/km2 (520/sq mi)</td>\n    </tr>\n    <tr>\n      <th>West Bengal</th>\n      <td>19819</td>\n      <td>91276115</td>\n      <td>1,029/km2 (2,670/sq mi)</td>\n    </tr>\n    <tr>\n      <th>Madhya Pradesh</th>\n      <td>14106</td>\n      <td>72626809</td>\n      <td>236/km2 (610/sq mi)</td>\n    </tr>\n    <tr>\n      <th>Haryana</th>\n      <td>15732</td>\n      <td>25351462</td>\n      <td>573/km2 (1,480/sq mi)</td>\n    </tr>\n    <tr>\n      <th>Karnataka</th>\n      <td>18016</td>\n      <td>61095297</td>\n      <td>319/km2 (830/sq mi)</td>\n    </tr>\n    <tr>\n      <th>Andhra Pradesh</th>\n      <td>16934</td>\n      <td>49577103</td>\n      <td>303/km2 (780/sq mi)</td>\n    </tr>\n    <tr>\n      <th>Bihar</th>\n      <td>10914</td>\n      <td>104099452</td>\n      <td>1,102/km2 (2,850/sq mi)</td>\n    </tr>\n    <tr>\n      <th>Jammu and Kashmir</th>\n      <td>7849</td>\n      <td>12267032</td>\n      <td>98/km2 (250/sq mi)</td>\n    </tr>\n    <tr>\n      <th>Assam</th>\n      <td>9435</td>\n      <td>31205576</td>\n      <td>397/km2 (1,030/sq mi)</td>\n    </tr>\n    <tr>\n      <th>Odisha</th>\n      <td>8106</td>\n      <td>41974218</td>\n      <td>269/km2 (700/sq mi)</td>\n    </tr>\n    <tr>\n      <th>Punjab</th>\n      <td>5784</td>\n      <td>27743338</td>\n      <td>550/km2 (1,400/sq mi)</td>\n    </tr>\n    <tr>\n      <th>Kerala</th>\n      <td>4754</td>\n      <td>33406061</td>\n      <td>859/km2 (2,220/sq mi)</td>\n    </tr>\n    <tr>\n      <th>Uttarakhand</th>\n      <td>2984</td>\n      <td>10086292</td>\n      <td>189/km2 (490/sq mi)</td>\n    </tr>\n    <tr>\n      <th>Chhattisgarh</th>\n      <td>3013</td>\n      <td>25545198</td>\n      <td>189/km2 (490/sq mi)</td>\n    </tr>\n    <tr>\n      <th>Jharkhand</th>\n      <td>2634</td>\n      <td>32988134</td>\n      <td>414/km2 (1,070/sq mi)</td>\n    </tr>\n    <tr>\n      <th>Tripura</th>\n      <td>1440</td>\n      <td>3673917</td>\n      <td>350/km2 (910/sq mi)</td>\n    </tr>\n    <tr>\n      <th>Ladakh</th>\n      <td>1002</td>\n      <td>274000</td>\n      <td>2.8/km2 (7.3/sq mi)</td>\n    </tr>\n    <tr>\n      <th>Goa</th>\n      <td>1482</td>\n      <td>1458545</td>\n      <td>394/km2 (1,020/sq mi)</td>\n    </tr>\n    <tr>\n      <th>Himachal Pradesh</th>\n      <td>1021</td>\n      <td>6864602</td>\n      <td>123/km2 (320/sq mi)</td>\n    </tr>\n    <tr>\n      <th>Manipur</th>\n      <td>1279</td>\n      <td>2570390</td>\n      <td>122/km2 (320/sq mi)</td>\n    </tr>\n    <tr>\n      <th>Chandigarh</th>\n      <td>450</td>\n      <td>1055450</td>\n      <td>9,252/km2 (23,960/sq mi)</td>\n    </tr>\n    <tr>\n      <th>Puducherry</th>\n      <td>824</td>\n      <td>1247953</td>\n      <td>2,598/km2 (6,730/sq mi)</td>\n    </tr>\n    <tr>\n      <th>Nagaland</th>\n      <td>539</td>\n      <td>1978502</td>\n      <td>119/km2 (310/sq mi)</td>\n    </tr>\n    <tr>\n      <th>Mizoram</th>\n      <td>162</td>\n      <td>1097206</td>\n      <td>52/km2 (130/sq mi)</td>\n    </tr>\n    <tr>\n      <th>Arunachal Pradesh</th>\n      <td>232</td>\n      <td>1383727</td>\n      <td>17/km2 (44/sq mi)</td>\n    </tr>\n    <tr>\n      <th>Sikkim</th>\n      <td>101</td>\n      <td>610577</td>\n      <td>86/km2 (220/sq mi)</td>\n    </tr>\n    <tr>\n      <th>Dadra and Nagar Haveli and Daman and Diu</th>\n      <td>268</td>\n      <td>585764</td>\n      <td>970/km2 (2,500/sq mi)</td>\n    </tr>\n    <tr>\n      <th>Andaman and Nicobar Islands</th>\n      <td>116</td>\n      <td>380581</td>\n      <td>46/km2 (120/sq mi)</td>\n    </tr>\n    <tr>\n      <th>Meghalaya</th>\n      <td>62</td>\n      <td>2966889</td>\n      <td>132/km2 (340/sq mi)</td>\n    </tr>\n    <tr>\n      <th>Lakshadweep</th>\n      <td>0</td>\n      <td>64473</td>\n      <td>2,013/km2 (5,210/sq mi)</td>\n    </tr>\n  </tbody>\n</table>\n</div>"
     },
     "metadata": {},
     "execution_count": 8
    }
   ],
   "source": [
    "State_Covid=pd.merge(State,State2,how='inner',left_index=True,right_index=True)\n",
    "State_Covid"
   ]
  },
  {
   "cell_type": "code",
   "execution_count": 9,
   "metadata": {},
   "outputs": [
    {
     "output_type": "execute_result",
     "data": {
      "text/plain": "0.4585721688217507"
     },
     "metadata": {},
     "execution_count": 9
    }
   ],
   "source": [
    "corr_Pop=State_Covid['Confirmed'].corr(State_Covid['Population'])\n",
    "corr_Pop\n"
   ]
  },
  {
   "cell_type": "code",
   "execution_count": null,
   "metadata": {},
   "outputs": [],
   "source": []
  }
 ],
 "metadata": {
  "language_info": {
   "codemirror_mode": {
    "name": "ipython",
    "version": 3
   },
   "file_extension": ".py",
   "mimetype": "text/x-python",
   "name": "python",
   "nbconvert_exporter": "python",
   "pygments_lexer": "ipython3",
   "version": "3.8.2-final"
  },
  "orig_nbformat": 2,
  "kernelspec": {
   "name": "python38264bit8839610f77eb428ba40d2c4dc493bc82",
   "display_name": "Python 3.8.2 64-bit"
  }
 },
 "nbformat": 4,
 "nbformat_minor": 2
}